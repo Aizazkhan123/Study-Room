{
 "cells": [
  {
   "cell_type": "code",
   "execution_count": 19,
   "metadata": {},
   "outputs": [
    {
     "name": "stdout",
     "output_type": "stream",
     "text": [
      "Enter your Host namelocalhost\n",
      "Enter your User name name\"root\n",
      "input your passwordoracle12345\n",
      "<mysql.connector.connection.MySQLConnection object at 0x000001C1D4FEA308>\n",
      "Welcom to aizaz Ai database System managment System\n",
      "you want to creat database pleas input database name \n",
      "input your database Nameccc\n"
     ]
    }
   ],
   "source": [
    "import mysql.connector\n",
    "host=input(\"Enter your Host name\")\n",
    "user=input('Enter your User name name\"')\n",
    "password=input(\"input your password\")\n",
    "mydb = mysql.connector.connect(\n",
    "  host=host,\n",
    "  user=user,\n",
    "  password=password\n",
    ")\n",
    "\n",
    "print(mydb)\n",
    "print(\"Welcom to aizaz Ai database System managment System\")\n",
    "mycursor = mydb.cursor()\n",
    "print(\"you want to creat database pleas input database name \")\n",
    "name=input(\"input your database Name\")\n",
    "name=str(name)\n",
    "mycursor.execute(\"CREATE DATABASE \"+name)\n",
    "    "
   ]
  },
  {
   "cell_type": "code",
   "execution_count": 3,
   "metadata": {},
   "outputs": [
    {
     "name": "stdout",
     "output_type": "stream",
     "text": [
      "input your table nameStudent\n",
      "input your columns nameStd_ID\n",
      "input your columns nameName\n",
      "input your columns nameAddress\n"
     ]
    }
   ],
   "source": [
    "import mysql.connector\n",
    "\n",
    "mydb = mysql.connector.connect(\n",
    "  host=\"localhost\",\n",
    "  user=\"root\",\n",
    "  password=\"oracle12345\",\n",
    "  database=\"Student\"\n",
    ")\n",
    "\n",
    "mycursor = mydb.cursor()\n",
    "\n",
    "\n",
    "\n",
    "mycursor.execute(\"CREATE TABLE {name} ({col_1} INT AUTO_INCREMENT PRIMARY KEY, {col_2} VARCHAR(255), {col_3} VARCHAR(255))\"\n",
    "                 .format(name = input(\"input your table name\"), col_1= input(\"input your columns name\"),      \n",
    "                 col_2= input(\"input your columns name\"),col_3= input(\"input your columns name\")))\n",
    "\n",
    "\n"
   ]
  },
  {
   "cell_type": "code",
   "execution_count": null,
   "metadata": {},
   "outputs": [],
   "source": []
  },
  {
   "cell_type": "code",
   "execution_count": 7,
   "metadata": {},
   "outputs": [
    {
     "name": "stdout",
     "output_type": "stream",
     "text": [
      "table name is{name}\n"
     ]
    }
   ],
   "source": [
    "print(\"table name is{name}\")"
   ]
  },
  {
   "cell_type": "code",
   "execution_count": null,
   "metadata": {},
   "outputs": [],
   "source": [
    "import mysql.connector\n",
    "\n",
    "mydb = mysql.connector.connect(\n",
    "  host=\"localhost\",\n",
    "  user=\"root\",\n",
    "  password=\"oracle12345\",\n",
    "  database=\"aizaz\"\n",
    ")\n",
    "\n",
    "mycursor = mydb.cursor()\n",
    "\n",
    "\n",
    "mycursor.execute(\"CREATE TABLE customers (id INT AUTO_INCREMENT PRIMARY KEY, name VARCHAR(255), address VARCHAR(255))\")\n",
    "\n",
    "#If this page is executed with no error, the table \"customers\" now has a primary key"
   ]
  },
  {
   "cell_type": "code",
   "execution_count": 18,
   "metadata": {},
   "outputs": [
    {
     "name": "stdout",
     "output_type": "stream",
     "text": [
      "input yor database nameaizaz\n",
      "creat table aizaz\n"
     ]
    }
   ],
   "source": [
    "name=input(\"input yor database name\")\n",
    "name=str(name)\n",
    "b=(\"creat table \"+name)\n",
    "print(b)"
   ]
  },
  {
   "cell_type": "code",
   "execution_count": null,
   "metadata": {},
   "outputs": [],
   "source": []
  }
 ],
 "metadata": {
  "kernelspec": {
   "display_name": "Python 3",
   "language": "python",
   "name": "python3"
  },
  "language_info": {
   "codemirror_mode": {
    "name": "ipython",
    "version": 3
   },
   "file_extension": ".py",
   "mimetype": "text/x-python",
   "name": "python",
   "nbconvert_exporter": "python",
   "pygments_lexer": "ipython3",
   "version": "3.7.6"
  }
 },
 "nbformat": 4,
 "nbformat_minor": 4
}
