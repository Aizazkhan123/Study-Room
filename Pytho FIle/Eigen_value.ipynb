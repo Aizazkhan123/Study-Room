{
 "cells": [
  {
   "cell_type": "code",
   "execution_count": 6,
   "metadata": {},
   "outputs": [],
   "source": [
    "import numpy as np\n",
    "import scipy.linalg as la"
   ]
  },
  {
   "cell_type": "code",
   "execution_count": 7,
   "metadata": {
    "scrolled": true
   },
   "outputs": [
    {
     "name": "stdout",
     "output_type": "stream",
     "text": [
      "[[ 1  2]\n",
      " [-1  3]]\n"
     ]
    }
   ],
   "source": [
    "A = np.array([[1,2],[-1,3]])\n",
    "print(A)"
   ]
  },
  {
   "cell_type": "code",
   "execution_count": 8,
   "metadata": {},
   "outputs": [],
   "source": [
    "results = la.eig(A) #  by using methord"
   ]
  },
  {
   "cell_type": "code",
   "execution_count": 9,
   "metadata": {},
   "outputs": [
    {
     "name": "stdout",
     "output_type": "stream",
     "text": [
      "[2.+1.j 2.-1.j]\n"
     ]
    }
   ],
   "source": [
    "print(results[0])"
   ]
  },
  {
   "cell_type": "code",
   "execution_count": 11,
   "metadata": {},
   "outputs": [
    {
     "name": "stdout",
     "output_type": "stream",
     "text": [
      "[[3 6 8]\n",
      " [0 0 6]\n",
      " [0 0 2]]\n"
     ]
    }
   ],
   "source": [
    "#Example 2:\n",
    "B = np.array([[3,6,8],[0,0,6],[0,0,2]])\n",
    "print(B)\n",
    "\n"
   ]
  },
  {
   "cell_type": "code",
   "execution_count": 13,
   "metadata": {},
   "outputs": [
    {
     "name": "stdout",
     "output_type": "stream",
     "text": [
      "[3.+0.j 0.+0.j 2.+0.j]\n"
     ]
    }
   ],
   "source": [
    "results = la.eig(B)\n",
    "print(results[0])\n",
    "             "
   ]
  },
  {
   "cell_type": "code",
   "execution_count": 21,
   "metadata": {},
   "outputs": [
    {
     "name": "stdout",
     "output_type": "stream",
     "text": [
      "(array([3.+0.j, 0.+0.j, 2.+0.j]), array([[ 1.        , -0.89442719, -0.99268461],\n",
      "       [ 0.        ,  0.4472136 ,  0.11454053],\n",
      "       [ 0.        ,  0.        ,  0.03818018]]))\n"
     ]
    }
   ],
   "source": [
    "print(results)"
   ]
  },
  {
   "cell_type": "code",
   "execution_count": 24,
   "metadata": {},
   "outputs": [
    {
     "name": "stdout",
     "output_type": "stream",
     "text": [
      "Printing the Original square array:\n",
      " [[1 2]\n",
      " [2 3]]\n",
      "Printing the Eigen values of the given square array:\n",
      " [-0.23606798  4.23606798]\n",
      "Printing Right eigenvectors of the given square array:\n",
      " [[-0.85065081 -0.52573111]\n",
      " [ 0.52573111 -0.85065081]]\n"
     ]
    }
   ],
   "source": [
    "# importing numpy library \n",
    "import numpy as np \n",
    "  \n",
    "# create numpy 2d-array \n",
    "m = np.array([[1, 2], \n",
    "              [2, 3]]) \n",
    "  \n",
    "print(\"Printing the Original square array:\\n\", \n",
    "      m) \n",
    "  \n",
    "# finding eigenvalues and eigenvectors \n",
    "w, v = np.linalg.eig(m) \n",
    "  \n",
    "# printing eigen values \n",
    "print(\"Printing the Eigen values of the given square array:\\n\", \n",
    "      w) \n",
    "  \n",
    "# printing eigen vectors \n",
    "print(\"Printing Right eigenvectors of the given square array:\\n\",\n",
    "      v)"
   ]
  },
  {
   "cell_type": "code",
   "execution_count": 25,
   "metadata": {},
   "outputs": [
    {
     "name": "stdout",
     "output_type": "stream",
     "text": [
      "Printing the Original square array:\n",
      " [[1 2 3]\n",
      " [2 3 4]\n",
      " [4 5 6]]\n",
      "Printing the Eigen values of the given square array:\n",
      " [ 1.08309519e+01 -8.30951895e-01  1.01486082e-16]\n",
      "Printing Right eigenvectors of the given square array:\n",
      " [[ 0.34416959  0.72770285  0.40824829]\n",
      " [ 0.49532111  0.27580256 -0.81649658]\n",
      " [ 0.79762415 -0.62799801  0.40824829]]\n"
     ]
    }
   ],
   "source": [
    "import numpy as np \n",
    "  \n",
    "# create numpy 2d-array \n",
    "m = np.array([[1, 2, 3], \n",
    "              [2, 3, 4], \n",
    "              [4, 5, 6]]) \n",
    "  \n",
    "print(\"Printing the Original square array:\\n\", \n",
    "      m) \n",
    "  \n",
    "# finding eigenvalues and eigenvectors \n",
    "w, v = np.linalg.eig(m) \n",
    "  \n",
    "# printing eigen values \n",
    "print(\"Printing the Eigen values of the given square array:\\n\", \n",
    "      w) \n",
    "  \n",
    "# printing eigen vectors \n",
    "print(\"Printing Right eigenvectors of the given square array:\\n\", \n",
    "      v) "
   ]
  },
  {
   "cell_type": "code",
   "execution_count": null,
   "metadata": {},
   "outputs": [],
   "source": []
  },
  {
   "cell_type": "code",
   "execution_count": null,
   "metadata": {},
   "outputs": [],
   "source": []
  }
 ],
 "metadata": {
  "kernelspec": {
   "display_name": "Python 3",
   "language": "python",
   "name": "python3"
  },
  "language_info": {
   "codemirror_mode": {
    "name": "ipython",
    "version": 3
   },
   "file_extension": ".py",
   "mimetype": "text/x-python",
   "name": "python",
   "nbconvert_exporter": "python",
   "pygments_lexer": "ipython3",
   "version": "3.7.6"
  }
 },
 "nbformat": 4,
 "nbformat_minor": 4
}
