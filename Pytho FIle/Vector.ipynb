{
 "cells": [
  {
   "cell_type": "markdown",
   "metadata": {},
   "source": [
    "# Calculate Inner Product of Vectors in Python"
   ]
  },
  {
   "cell_type": "code",
   "execution_count": 1,
   "metadata": {},
   "outputs": [],
   "source": [
    "#compute the inner product of two given vectors.\n",
    "# Import numpy module \n",
    "import numpy as np\n",
    "   "
   ]
  },
  {
   "cell_type": "code",
   "execution_count": 2,
   "metadata": {},
   "outputs": [
    {
     "name": "stdout",
     "output_type": "stream",
     "text": [
      "Result  =  -1\n"
     ]
    }
   ],
   "source": [
    "# Taking two vectors \n",
    " \n",
    "V1 = np.array([2,-5,-1])\n",
    "V2 = np.array([3,2,-3])\n",
    "   \n",
    "# Transpose of v1 \n",
    "transposeOfV1 = np.transpose(V1) \n",
    "   \n",
    "# Matrix multiplication of both vectors \n",
    "result = np.dot(V2, transposeOfV1) \n",
    "print(\"Result  = \", result)"
   ]
  },
  {
   "cell_type": "code",
   "execution_count": 3,
   "metadata": {},
   "outputs": [
    {
     "name": "stdout",
     "output_type": "stream",
     "text": [
      "Result  =  -1\n"
     ]
    }
   ],
   "source": [
    "# Taking two vectors \n",
    " \n",
    "V1 = np.array([2,-5,-1])\n",
    "V2 = np.array([3,2,-3])\n",
    " \n",
    "  \n",
    "# Matrix multiplication of both vectors \n",
    "result = np.dot(V2,V1) \n",
    "print(\"Result  = \", result)"
   ]
  },
  {
   "cell_type": "code",
   "execution_count": 4,
   "metadata": {},
   "outputs": [
    {
     "name": "stdout",
     "output_type": "stream",
     "text": [
      "Result  =  -1\n"
     ]
    }
   ],
   "source": [
    "# Taking two vectors \n",
    " \n",
    "V1 = np.array([2,-5,-1])\n",
    "V2 = np.array([3,2,-3])\n",
    " \n",
    "   \n",
    "# Matrix multiplication of both vectors \n",
    "result = np.inner(V2,V1) \n",
    "print(\"Result  = \", result)"
   ]
  },
  {
   "cell_type": "markdown",
   "metadata": {},
   "source": [
    "# Find Length of Verctor\n",
    "If V is a vector in IR^n , the its length(or norm) is denoted by  ||V|| and its define as"
   ]
  },
  {
   "cell_type": "markdown",
   "metadata": {},
   "source": [
    "# ||V||=√ V.V"
   ]
  },
  {
   "cell_type": "code",
   "execution_count": 5,
   "metadata": {},
   "outputs": [
    {
     "name": "stdout",
     "output_type": "stream",
     "text": [
      "Length of vector is  =  5.48\n"
     ]
    }
   ],
   "source": [
    "# Taking  vectors \n",
    "# import the math module  \n",
    "import math \n",
    " \n",
    "V = np.array([2,-5,-1])\n",
    "\n",
    " \n",
    "   \n",
    "# Matrix multiplication of both vectors \n",
    "result = np.inner(V,V) \n",
    "\n",
    "length_v= math.sqrt(result)\n",
    "\n",
    "print(\"Length of vector is  = \",round(length_v,2))"
   ]
  },
  {
   "cell_type": "code",
   "execution_count": 6,
   "metadata": {},
   "outputs": [
    {
     "name": "stdout",
     "output_type": "stream",
     "text": [
      "[ 2 -5 -1]\n",
      "Norm of Vector is =  5.48\n"
     ]
    }
   ],
   "source": [
    "V = np.array([2,-5,-1])\n",
    "print(V)\n",
    "print( \"Norm of Vector is = \",round(np.linalg.norm(V),2))"
   ]
  },
  {
   "cell_type": "markdown",
   "metadata": {},
   "source": [
    "# Unit Vector:\n",
    "    A vector v in IR^n is called a unit vector \n",
    "||V||=1"
   ]
  },
  {
   "cell_type": "markdown",
   "metadata": {},
   "source": [
    "# ||V||=1"
   ]
  },
  {
   "cell_type": "code",
   "execution_count": 7,
   "metadata": {},
   "outputs": [
    {
     "name": "stdout",
     "output_type": "stream",
     "text": [
      "Result  =  3.0\n"
     ]
    }
   ],
   "source": [
    "V = np.array([1,-2,2,0])\n",
    "\n",
    " \n",
    "   \n",
    " # multiplication of  vectors \n",
    "result = np.inner(V,V) \n",
    "\n",
    "length_v= math.sqrt(result)\n",
    "\n",
    "print(\"Result  = \",length_v)"
   ]
  },
  {
   "cell_type": "markdown",
   "metadata": {},
   "source": [
    "# V/||v||"
   ]
  },
  {
   "cell_type": "code",
   "execution_count": 8,
   "metadata": {},
   "outputs": [
    {
     "name": "stdout",
     "output_type": "stream",
     "text": [
      "[ 0.33333333 -0.66666667  0.66666667  0.        ]\n"
     ]
    }
   ],
   "source": [
    " unit= V/length_v\n",
    "print(unit)"
   ]
  },
  {
   "cell_type": "code",
   "execution_count": 9,
   "metadata": {},
   "outputs": [
    {
     "name": "stdout",
     "output_type": "stream",
     "text": [
      "result  =  1.0\n"
     ]
    }
   ],
   "source": [
    "print( \"result  = \",np.linalg.norm(unit))"
   ]
  },
  {
   "cell_type": "markdown",
   "metadata": {},
   "source": [
    "# compute Distance between tow vector\n"
   ]
  },
  {
   "cell_type": "code",
   "execution_count": 10,
   "metadata": {},
   "outputs": [],
   "source": [
    "u=np.array([7,1])\n",
    "v=np.array([3,2])"
   ]
  },
  {
   "cell_type": "code",
   "execution_count": 11,
   "metadata": {},
   "outputs": [
    {
     "name": "stdout",
     "output_type": "stream",
     "text": [
      "distance B/w tow vector is = [ 4 -1]\n"
     ]
    }
   ],
   "source": [
    "dist=np.subtract(u,v)\n",
    "print(\"distance B/w tow vector is =\",dist)"
   ]
  },
  {
   "cell_type": "code",
   "execution_count": 12,
   "metadata": {},
   "outputs": [
    {
     "name": "stdout",
     "output_type": "stream",
     "text": [
      "Norm of tow vector is =  4.12\n"
     ]
    }
   ],
   "source": [
    "# finding length \n",
    "print( \"Norm of tow vector is = \",round(np.linalg.norm(dist),2))"
   ]
  },
  {
   "cell_type": "markdown",
   "metadata": {},
   "source": [
    "# Orthognal vector:\n",
    "    tow vector U and V are said to be orthognal or perpendicular of \n",
    "    U.V=0"
   ]
  },
  {
   "cell_type": "markdown",
   "metadata": {},
   "source": [
    "# U.V=0"
   ]
  },
  {
   "cell_type": "code",
   "execution_count": 13,
   "metadata": {},
   "outputs": [
    {
     "name": "stdout",
     "output_type": "stream",
     "text": [
      "Result  =  0\n",
      "its is Orthognal vector\n"
     ]
    }
   ],
   "source": [
    "# Taking two vectors \n",
    " \n",
    "V1 = np.array([12,3,-5])\n",
    "V2 = np.array([2,-3,3])\n",
    "   \n",
    "# Transpose of v1 \n",
    "transposeOfV1 = np.transpose(V1) \n",
    "   \n",
    "# Matrix multiplication of both vectors \n",
    "result = np.dot(V2, transposeOfV1) \n",
    "print(\"Result  = \", result)\n",
    "print(\"its is Orthognal vector\")"
   ]
  },
  {
   "cell_type": "markdown",
   "metadata": {},
   "source": [
    "# show that the set {u1,u2,u3} is orthognal \n",
    "U1=[3,1,1], U2=[-1,2,1], U3=[-1/2,-2,7/2]"
   ]
  },
  {
   "cell_type": "code",
   "execution_count": 15,
   "metadata": {},
   "outputs": [],
   "source": [
    "# Taking vectors \n",
    "U1 = np.array([3,1,1])\n",
    "U2 = np.array([-1,2,1])\n",
    "U3 =np.array([-1/2,-2,7/2])"
   ]
  },
  {
   "cell_type": "code",
   "execution_count": 16,
   "metadata": {},
   "outputs": [
    {
     "name": "stdout",
     "output_type": "stream",
     "text": [
      "U1.U2  =  0\n"
     ]
    }
   ],
   "source": [
    "# Taking product of tow vector  U1.U2\n",
    "result = np.dot(U1,U2) \n",
    "print(\"U1.U2  = \", result)"
   ]
  },
  {
   "cell_type": "code",
   "execution_count": 17,
   "metadata": {},
   "outputs": [
    {
     "name": "stdout",
     "output_type": "stream",
     "text": [
      "U1.U3  =  0.0\n"
     ]
    }
   ],
   "source": [
    "# Taking product of tow vector  U1.U3\n",
    "result = np.dot(U1,U3) \n",
    "print(\"U1.U3  = \", result)"
   ]
  },
  {
   "cell_type": "code",
   "execution_count": 18,
   "metadata": {},
   "outputs": [
    {
     "name": "stdout",
     "output_type": "stream",
     "text": [
      "U2.U3  =  0.0\n"
     ]
    }
   ],
   "source": [
    "# Taking product of tow vector  U2.U3\n",
    "result = np.dot(U2,U3) \n",
    "print(\"U2.U3  = \", result)"
   ]
  },
  {
   "cell_type": "code",
   "execution_count": 19,
   "metadata": {},
   "outputs": [
    {
     "name": "stdout",
     "output_type": "stream",
     "text": [
      "set {U1,U2,U3} is Orthognal \n"
     ]
    }
   ],
   "source": [
    "print( \"set {U1,U2,U3}\"\" is Orthognal \")"
   ]
  },
  {
   "cell_type": "markdown",
   "metadata": {},
   "source": [
    "# Orthornormal Set:\n",
    "    A set of vector that tow condition are applied \n",
    "    1) this set is Orthognal.\n",
    "    2) each member of this is a unit vector,||U1||=||U2||=.......||Un||=1"
   ]
  },
  {
   "cell_type": "markdown",
   "metadata": {},
   "source": [
    "# Sow that the set {v1,v2,v3} is Orthornormal set when\n",
    "\n",
    "v1=[3/√11,1/√11,1/√11], v2=[-1/√6,2/√6,1/√6], v3=[-1/√66,-4/√66,7/√66]"
   ]
  },
  {
   "cell_type": "code",
   "execution_count": 20,
   "metadata": {},
   "outputs": [],
   "source": [
    "#first find orthognal vector\n",
    "# Taking vectors \n",
    "v1 = np.array([3/math.sqrt(11),1/math.sqrt(11),1/math.sqrt(11)])\n",
    "v2 = np.array([-1/math.sqrt(6),2/math.sqrt(6),1/math.sqrt(6)])\n",
    "v3=np.array([-1/8.12,-4/8.12,7/8.12])"
   ]
  },
  {
   "cell_type": "markdown",
   "metadata": {},
   "source": [
    "# first find orthognal vector:\n"
   ]
  },
  {
   "cell_type": "code",
   "execution_count": 23,
   "metadata": {},
   "outputs": [
    {
     "name": "stdout",
     "output_type": "stream",
     "text": [
      "v1.v2  =  0.0\n"
     ]
    }
   ],
   "source": [
    "\n",
    "# Taking product of tow vector  v1.v2\n",
    "result = np.inner(v1,v2) \n",
    "print(\"v1.v2  = \", result)"
   ]
  },
  {
   "cell_type": "code",
   "execution_count": 24,
   "metadata": {},
   "outputs": [
    {
     "name": "stdout",
     "output_type": "stream",
     "text": [
      "v1.v3  =  0.0\n"
     ]
    }
   ],
   "source": [
    "# Taking product of tow vector  v1.v3\n",
    "result = np.inner(v1,v3) \n",
    "print(\"v1.v3  = \", result)"
   ]
  },
  {
   "cell_type": "code",
   "execution_count": 25,
   "metadata": {},
   "outputs": [
    {
     "name": "stdout",
     "output_type": "stream",
     "text": [
      "v1.v3  =  0.0\n"
     ]
    }
   ],
   "source": [
    "# Taking product of tow vector  v2.v3\n",
    "result = np.inner(v2,v3) \n",
    "print(\"v1.v3  = \", result)"
   ]
  },
  {
   "cell_type": "code",
   "execution_count": 26,
   "metadata": {},
   "outputs": [
    {
     "name": "stdout",
     "output_type": "stream",
     "text": [
      "hence the set {v1,v2,v3 } is orthognal vector\n"
     ]
    }
   ],
   "source": [
    "print(\"hence the set {v1,v2,v3 } is orthognal vector\")"
   ]
  },
  {
   "cell_type": "markdown",
   "metadata": {},
   "source": [
    "# finding unit vector of set{v1,v2,v3}"
   ]
  },
  {
   "cell_type": "code",
   "execution_count": 27,
   "metadata": {},
   "outputs": [
    {
     "name": "stdout",
     "output_type": "stream",
     "text": [
      "Length of vector is  =  1.0\n"
     ]
    }
   ],
   "source": [
    "# finding Norm of vector v1\n",
    "v1 = np.array([3/math.sqrt(11),1/math.sqrt(11),1/math.sqrt(11)])\n",
    " \n",
    "   \n",
    "# Matrix multiplication of both vectors \n",
    "result = np.inner(v1,v1) \n",
    "\n",
    "length_v= math.sqrt(result)\n",
    "\n",
    "print(\"Length of vector is  = \",round(length_v,2))"
   ]
  },
  {
   "cell_type": "code",
   "execution_count": null,
   "metadata": {},
   "outputs": [],
   "source": []
  },
  {
   "cell_type": "code",
   "execution_count": 28,
   "metadata": {},
   "outputs": [
    {
     "name": "stdout",
     "output_type": "stream",
     "text": [
      "[0.90453403 0.30151134 0.30151134]\n"
     ]
    }
   ],
   "source": [
    "unit_vector= v1/length_v\n",
    "print(unit_vector)"
   ]
  },
  {
   "cell_type": "code",
   "execution_count": 29,
   "metadata": {},
   "outputs": [
    {
     "name": "stdout",
     "output_type": "stream",
     "text": [
      "v1 unir vector is  =  1.0\n"
     ]
    }
   ],
   "source": [
    "print( \"v1 unir vector is  = \",np.linalg.norm(unit_vector))"
   ]
  },
  {
   "cell_type": "code",
   "execution_count": 30,
   "metadata": {},
   "outputs": [
    {
     "name": "stdout",
     "output_type": "stream",
     "text": [
      "Length of vector is  =  1.0\n"
     ]
    }
   ],
   "source": [
    "# finding Norm of vector v2\n",
    "v2 = np.array([-1/math.sqrt(6),2/math.sqrt(6),1/math.sqrt(6)])\n",
    "# Matrix multiplication of both vectors \n",
    "result = np.inner(v2,v2) \n",
    "\n",
    "length_v= math.sqrt(result)\n",
    "\n",
    "print(\"Length of vector is  = \",round(length_v,2))"
   ]
  },
  {
   "cell_type": "code",
   "execution_count": 31,
   "metadata": {},
   "outputs": [
    {
     "name": "stdout",
     "output_type": "stream",
     "text": [
      "[-0.40824829  0.81649658  0.40824829]\n"
     ]
    }
   ],
   "source": [
    "unit_vector= v2/length_v\n",
    "print(unit_vector)"
   ]
  },
  {
   "cell_type": "code",
   "execution_count": 32,
   "metadata": {},
   "outputs": [
    {
     "name": "stdout",
     "output_type": "stream",
     "text": [
      "v2 unir vector is  =  1.0\n"
     ]
    }
   ],
   "source": [
    "print( \"v2 unir vector is  = \",np.linalg.norm(unit_vector))"
   ]
  },
  {
   "cell_type": "code",
   "execution_count": 33,
   "metadata": {},
   "outputs": [
    {
     "name": "stdout",
     "output_type": "stream",
     "text": [
      "Length of vector is  =  1.0\n"
     ]
    }
   ],
   "source": [
    "# finding Norm of vector v3\n",
    "v3=np.array([-1/8.12,-4/8.12,7/8.12])\n",
    "# Matrix multiplication of both vectors \n",
    "result = np.inner(v3,v3) \n",
    "\n",
    "length_v= math.sqrt(result)\n",
    "\n",
    "print(\"Length of vector is  = \",round(length_v,2))"
   ]
  },
  {
   "cell_type": "code",
   "execution_count": 34,
   "metadata": {},
   "outputs": [
    {
     "name": "stdout",
     "output_type": "stream",
     "text": [
      "[-0.12309149 -0.49236596  0.86164044]\n"
     ]
    }
   ],
   "source": [
    "unit_vector= v3/length_v\n",
    "print(unit_vector)"
   ]
  },
  {
   "cell_type": "code",
   "execution_count": 35,
   "metadata": {},
   "outputs": [
    {
     "name": "stdout",
     "output_type": "stream",
     "text": [
      "v3 unir vector is  =  1.0\n"
     ]
    }
   ],
   "source": [
    "print( \"v3 unir vector is  = \",np.linalg.norm(unit_vector))"
   ]
  },
  {
   "cell_type": "markdown",
   "metadata": {},
   "source": [
    "# proved set {v1,v2,v3} is Orthornormal set when"
   ]
  },
  {
   "cell_type": "markdown",
   "metadata": {},
   "source": [
    "# Angle Between Vectors"
   ]
  },
  {
   "cell_type": "code",
   "execution_count": null,
   "metadata": {},
   "outputs": [],
   "source": []
  },
  {
   "cell_type": "code",
   "execution_count": 36,
   "metadata": {},
   "outputs": [
    {
     "name": "stdout",
     "output_type": "stream",
     "text": [
      "29.15\n"
     ]
    }
   ],
   "source": [
    "def angle_between(v1, v2):\n",
    "    dot_pr= np.inner(v1,v2)\n",
    "    norms = np.linalg.norm(v1) * np.linalg.norm(v2)\n",
    " \n",
    "    return np.rad2deg(np.arccos(dot_pr / norms))\n",
    "v = np.array([1, 4, 5])\n",
    "u = np.array([2, 1, 5])\n",
    "print(round(angle_between(v, u),2))"
   ]
  },
  {
   "cell_type": "markdown",
   "metadata": {},
   "source": [
    "# vector in Graph"
   ]
  },
  {
   "cell_type": "code",
   "execution_count": 38,
   "metadata": {},
   "outputs": [
    {
     "data": {
      "image/png": "[encoded data removed]",
      "text/plain": [
       "<Figure size 432x288 with 1 Axes>"
      ]
     },
     "metadata": {
      "needs_background": "light"
     },
     "output_type": "display_data"
    }
   ],
   "source": [
    "import matplotlib.pyplot as plt\n",
    "import numpy as np\n",
    "\n",
    "ax = plt.axes()\n",
    "\n",
    "ax.arrow(2.0, 4.0, 6.0, 4.0, head_width=0.5, head_length=0.7, fc='lightblue', ec='black')\n",
    "\n",
    "plt.grid()\n",
    "\n",
    "plt.xlim(0,10)\n",
    "plt.ylim(0,10)\n",
    "\n",
    "plt.title('How to plot a vector in matplotlib ?',fontsize=20)\n",
    "\n",
    "plt.savefig('how_to_plot_a_vector_in_matplotlib_fig1.png', bbox_inches='tight')\n",
    "plt.show()\n",
    "plt.close()"
   ]
  },
  {
   "cell_type": "code",
   "execution_count": 39,
   "metadata": {},
   "outputs": [
    {
     "data": {
      "text/plain": [
       "(-1, 3)"
      ]
     },
     "execution_count": 39,
     "metadata": {},
     "output_type": "execute_result"
    },
    {
     "data": {
      "image/png": "[encoded data removed]",
      "text/plain": [
       "<Figure size 432x288 with 1 Axes>"
      ]
     },
     "metadata": {
      "needs_background": "light"
     },
     "output_type": "display_data"
    }
   ],
   "source": [
    "import matplotlib.pyplot as plt\n",
    "import numpy as np\n",
    " \n",
    "vectors = np.array(([2, 0], [3, 2]))\n",
    "vector_addition = vectors[0] + vectors[1]\n",
    "vectors = np.append(vectors, vector_addition[None,:], axis=0)\n",
    " \n",
    "tail = [0, 0]\n",
    "fig, ax = plt.subplots(1)\n",
    "ax.quiver(*tail,\n",
    "           vectors[:, 0],\n",
    "           vectors[:, 1],\n",
    "           scale=1,\n",
    "           scale_units='xy',\n",
    "           angles = 'xy',\n",
    "           color=['g', 'r', 'k'])\n",
    " \n",
    "ax.set_xlim((-1, vectors[:,0].max()+1))\n",
    "ax.set_ylim((-1, vectors[:,1].max()+1))\n"
   ]
  },
  {
   "cell_type": "code",
   "execution_count": null,
   "metadata": {},
   "outputs": [],
   "source": []
  },
  {
   "cell_type": "code",
   "execution_count": null,
   "metadata": {},
   "outputs": [],
   "source": []
  }
 ],
 "metadata": {
  "kernelspec": {
   "display_name": "Python 3",
   "language": "python",
   "name": "python3"
  },
  "language_info": {
   "codemirror_mode": {
    "name": "ipython",
    "version": 3
   },
   "file_extension": ".py",
   "mimetype": "text/x-python",
   "name": "python",
   "nbconvert_exporter": "python",
   "pygments_lexer": "ipython3",
   "version": "3.7.6"
  }
 },
 "nbformat": 4,
 "nbformat_minor": 4
}
